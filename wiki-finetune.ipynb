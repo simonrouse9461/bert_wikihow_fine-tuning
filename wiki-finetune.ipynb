{
 "cells": [
  {
   "cell_type": "code",
   "execution_count": 1,
   "metadata": {},
   "outputs": [],
   "source": [
    "%load_ext autoreload\n",
    "%autoreload 2"
   ]
  },
  {
   "cell_type": "code",
   "execution_count": 2,
   "metadata": {},
   "outputs": [],
   "source": [
    "import torch\n",
    "import torch.nn as nn\n",
    "import pandas as pd\n",
    "import numpy as np\n",
    "from tqdm import tqdm_notebook\n",
    "from torch.utils.data import IterableDataset\n",
    "from torch.optim.lr_scheduler import ExponentialLR\n",
    "from transformers import (BertTokenizer,\n",
    "                          BertModel, \n",
    "                          BertForMaskedLM, \n",
    "                          BertForNextSentencePrediction, \n",
    "                          AdamW)\n",
    "\n",
    "from dataset import *\n",
    "from utils import *"
   ]
  },
  {
   "cell_type": "code",
   "execution_count": 3,
   "metadata": {},
   "outputs": [],
   "source": [
    "device = 'cuda'\n",
    "parallel = False"
   ]
  },
  {
   "cell_type": "code",
   "execution_count": 4,
   "metadata": {},
   "outputs": [],
   "source": [
    "tokenizer = BertTokenizer.from_pretrained('bert-base-uncased')"
   ]
  },
  {
   "cell_type": "code",
   "execution_count": 5,
   "metadata": {},
   "outputs": [],
   "source": [
    "collator = NSPBatchCollator(tokenizer, device=device)"
   ]
  },
  {
   "cell_type": "code",
   "execution_count": 6,
   "metadata": {},
   "outputs": [],
   "source": [
    "dataset = WikihowNSP('wikihow.csv', shuffle=True, tqdm=tqdm_notebook)"
   ]
  },
  {
   "cell_type": "code",
   "execution_count": 7,
   "metadata": {},
   "outputs": [],
   "source": [
    "loader = dataset.loader(collator, batch_size=32)"
   ]
  },
  {
   "cell_type": "code",
   "execution_count": 8,
   "metadata": {},
   "outputs": [],
   "source": [
    "# raw_model = BertForNextSentencePrediction.from_pretrained('bert-base-uncased')\n",
    "raw_model = torch.load('bert.pt')\n",
    "model = nn.DataParallel(raw_model.to(device)) if parallel else raw_model"
   ]
  },
  {
   "cell_type": "code",
   "execution_count": 9,
   "metadata": {},
   "outputs": [],
   "source": [
    "optimizer = AdamW(model.parameters(), lr=1e-6, weight_decay=0.01)"
   ]
  },
  {
   "cell_type": "code",
   "execution_count": 10,
   "metadata": {},
   "outputs": [],
   "source": [
    "scheduler = ExponentialLR(optimizer, gamma=0.999)"
   ]
  },
  {
   "cell_type": "code",
   "execution_count": 11,
   "metadata": {},
   "outputs": [],
   "source": [
    "def reduce_metrics(seq):\n",
    "    loss, lr = zip(*seq)\n",
    "    return f'loss: {np.mean(loss)}, lr: {lr[-1][0]:.2e}'"
   ]
  },
  {
   "cell_type": "code",
   "execution_count": null,
   "metadata": {},
   "outputs": [
    {
     "data": {
      "application/vnd.jupyter.widget-view+json": {
       "model_id": "be4b8bffbf1e45d981f7146985b5f55c",
       "version_major": 2,
       "version_minor": 0
      },
      "text/plain": [
       "HBox(children=(FloatProgress(value=0.0, max=1585695.0), HTML(value='')))"
      ]
     },
     "metadata": {},
     "output_type": "display_data"
    }
   ],
   "source": [
    "with Logger(file='train.log', \n",
    "            reduce_fn=reduce_metrics, \n",
    "            header=('=' * 50),\n",
    "            overwrite=False, \n",
    "            period=50) as logger:\n",
    "    for epoch in range(8):\n",
    "        for it, (input_ids, \n",
    "                 token_type_ids, \n",
    "                 attention_mask, \n",
    "                 next_sentence_label) in enumerate(loader):\n",
    "\n",
    "            model.train()\n",
    "            model.zero_grad()\n",
    "            loss, score = model(input_ids=input_ids, \n",
    "                                token_type_ids=token_type_ids, \n",
    "                                attention_mask=attention_mask, \n",
    "                                next_sentence_label=next_sentence_label)\n",
    "            loss.mean().backward()\n",
    "            logger.step([loss.mean().detach().cpu().numpy(), \n",
    "                         scheduler.get_lr()])\n",
    "            optimizer.step()\n",
    "            scheduler.step()\n",
    "\n",
    "            if it % 100 == 0:\n",
    "                torch.save(raw_model, 'bert.pt')"
   ]
  },
  {
   "cell_type": "code",
   "execution_count": null,
   "metadata": {},
   "outputs": [],
   "source": []
  }
 ],
 "metadata": {
  "kernelspec": {
   "display_name": "Python 3",
   "language": "python",
   "name": "python3"
  },
  "language_info": {
   "codemirror_mode": {
    "name": "ipython",
    "version": 3
   },
   "file_extension": ".py",
   "mimetype": "text/x-python",
   "name": "python",
   "nbconvert_exporter": "python",
   "pygments_lexer": "ipython3",
   "version": "3.7.6"
  }
 },
 "nbformat": 4,
 "nbformat_minor": 4
}
